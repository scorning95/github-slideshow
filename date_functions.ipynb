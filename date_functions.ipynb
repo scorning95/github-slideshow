{
  "nbformat": 4,
  "nbformat_minor": 0,
  "metadata": {
    "colab": {
      "name": "date_functions.ipynb",
      "provenance": [],
      "collapsed_sections": [],
      "authorship_tag": "ABX9TyMLk2KDCXoxMNVctJSGlFNW"
    },
    "kernelspec": {
      "name": "python3",
      "display_name": "Python 3"
    },
    "language_info": {
      "name": "python"
    }
  },
  "cells": [
    {
      "cell_type": "markdown",
      "source": [
        "#### Various functions to extract or manipulate date data"
      ],
      "metadata": {
        "id": "PaxCbJP9jvkT"
      }
    },
    {
      "cell_type": "code",
      "source": [
        "# Needed libraries\n",
        "import numpy as np"
      ],
      "metadata": {
        "id": "4PVx9BnckDr_"
      },
      "execution_count": null,
      "outputs": []
    },
    {
      "cell_type": "markdown",
      "source": [
        "Get date from file name and split"
      ],
      "metadata": {
        "id": "5oV6dnbtnnP4"
      }
    },
    {
      "cell_type": "code",
      "source": [
        "# Get filedate string - takes file name\n",
        "# Returns 1 value: string of date/data\n",
        "def filedate(x):\n",
        "    return(x[-14:-4])\n",
        "\n",
        "# Split data into ymd - takes date in y_m_d format\n",
        "# Returns 3 values: year, month, day\n",
        "def splitter(date):\n",
        "    y = int(date.split('-')[0])\n",
        "    m = int(date.split('-')[1])\n",
        "    d = int(date.split('-')[2])\n",
        "    return y, m, d"
      ],
      "metadata": {
        "id": "PehboNrQlVj8"
      },
      "execution_count": null,
      "outputs": []
    },
    {
      "cell_type": "markdown",
      "source": [
        "Check for leap year"
      ],
      "metadata": {
        "id": "IZgWF8j4nvyE"
      }
    },
    {
      "cell_type": "code",
      "source": [
        "# If year is a leap year return TRUE; else FALSE\n",
        "def checkLeap(year):\n",
        "   if((year % 400 == 0) or (year % 100 != 0) and (year % 4 == 0)):\n",
        "       return True\n",
        "   return False\n",
        "\n",
        "def is_leap_year(year):\n",
        "    if year % 100 == 0:\n",
        "        return year % 400 == 0\n",
        "    return year % 4 == 0"
      ],
      "metadata": {
        "id": "XYmE7zXtkLp7"
      },
      "execution_count": null,
      "outputs": []
    },
    {
      "cell_type": "markdown",
      "source": [
        "Get DOY in different formats"
      ],
      "metadata": {
        "id": "q3MC7Dh1nyfY"
      }
    },
    {
      "cell_type": "code",
      "source": [
        "# DOY - takes YMD; uses leap year check\n",
        "# Returns 1 value: doy\n",
        "def doy(Y,M,D):\n",
        "    \"\"\" given year, month, day return day of year\n",
        "        Astronomical Algorithms, Jean Meeus, 2d ed, 1998, chap 7 \"\"\"\n",
        "    if is_leap_year(Y):\n",
        "        K = 1\n",
        "    else:\n",
        "        K = 2\n",
        "    N = int((275 * M) / 9.0) - K * int((M + 9) / 12.0) + D - 30\n",
        "    return N\n",
        "\n",
        "# Cyclical DOY - takes doy and year; uses leap year check\n",
        "# Returns 2 values: sin and cos doy\n",
        "def cyclical_doy(doy, Y):\n",
        "    if is_leap_year(Y):\n",
        "        doy_sin = np.sin(2 * np.pi * doy/366.)\n",
        "        doy_cos = np.cos(2 * np.pi * doy/366.)\n",
        "        return doy_sin, doy_cos\n",
        "    else:\n",
        "        doy_sin = np.sin(2 * np.pi * doy/365.)\n",
        "        doy_cos = np.cos(2 * np.pi * doy/365.)\n",
        "        return doy_sin, doy_cos\n",
        "\n",
        "# Cumulative DOY - takes image name; uses filedate, splitter, doy\n",
        "# Returns 1-2 values: cumulative doy and optionally year\n",
        "def cumulative_doy(image):\n",
        "    begin_y = 2017\n",
        "    leap_year = [1956,1960,1964,1968,1972,1976,1980,1984,1988,1992,1996,2000,\n",
        "                 2004,2008,2012,2016,2020,2024,2028,2032,2036,2040,2044,2048]\n",
        "    date = filedate(image)\n",
        "    Y,M,D = splitter(date)\n",
        "    doy = get_doy(Y,M,D)\n",
        "    if Y == begin_y:\n",
        "        return doy, Y\n",
        "    else:\n",
        "        year = begin_y\n",
        "        count = 0\n",
        "        while Y > year:\n",
        "            if year in leap_year:\n",
        "                count += 366\n",
        "            else:\n",
        "                count += 365\n",
        "            year += 1\n",
        "        cum_doy = doy + count\n",
        "        return cum_doy #Y"
      ],
      "metadata": {
        "id": "57ZkFchTkbej"
      },
      "execution_count": null,
      "outputs": []
    },
    {
      "cell_type": "markdown",
      "source": [
        "Navigating multiple files/folders at once"
      ],
      "metadata": {
        "id": "CPbXpTw4n8OU"
      }
    },
    {
      "cell_type": "code",
      "source": [
        "# Get all date info from file - takes file name\n",
        "# Requires filedate, splitter, all doy variants\n",
        "# Returns 5 values: year, doy: original, cumulative, sin and cos\n",
        "def one_step(image):\n",
        "  date = filedate(image)\n",
        "  y,m,d = splitter(date)\n",
        "  dofy = get_doy(y,m,d)\n",
        "  doy_sin, doy_cos = cyclical_doy(dofy,y)\n",
        "  cum_doy = cumulative_doy(image)\n",
        "  return y, dofy, cum_doy, doy_sin, doy_cos\n",
        "\n",
        "# Get dates from all files in a folder - takes folder name\n",
        "# Requires fieldate, splitter, all doy variants\n",
        "# Returns dictionary of values (same as one_step)\n",
        "def date_data(folder):\n",
        "    # Define a function to get file data, based on naming scheme\n",
        "    # In this project [-14] will include YMD\n",
        "    def filedate(x):\n",
        "        return(x[-14:])\n",
        "\n",
        "    # empty dictionary to be filled with date data as follows:\n",
        "        # key: image name, values: Y, M, D, doy, doy_sin, doy_cos\n",
        "    date_dict = {}\n",
        "    import time_conversions as time\n",
        "    for image in sorted(folder, key=filedate):\n",
        "        if image.endswith('.tif'):\n",
        "            dict_values = [] # create new list each image\n",
        "            \n",
        "        # files used have filenames 33UWP_(number)_YEAR-MONTH-DAY.tif\n",
        "            dateTif = image.split('_')[2]\n",
        "            date = dateTif.split('.')[0]\n",
        "            y,m,d = splitter(date)\n",
        "            doy = doy(y,m,d)  # doy from date\n",
        "            doy_sin, doy_cos = cyclical_doy(doy, y)  # cyclical feature\n",
        "            cum_doy = cumulative_doy(image)\n",
        "            dict_values.extend(y,m,d,doy,doy_sin,doy_cos, cum_doy)\n",
        "            date_dict[image] = dict_values\n",
        "    return date_dict"
      ],
      "metadata": {
        "id": "DRuIfHFjjt4E"
      },
      "execution_count": null,
      "outputs": []
    }
  ]
}